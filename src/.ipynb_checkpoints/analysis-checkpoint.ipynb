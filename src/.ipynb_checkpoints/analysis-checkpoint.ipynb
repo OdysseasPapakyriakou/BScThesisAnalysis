{
 "cells": [
  {
   "cell_type": "markdown",
   "metadata": {},
   "source": [
    "<h1 align=\"center\">BSc Thesis</h1>\n",
    "\n",
    "<h2 align=\"center\">Parkinson’s disease and the Medial Geniculate Nucleus: <br/> A 7-Tesla MRI comparison of structural volume between patients and healthy controls</h2>\n"
   ]
  },
  {
   "cell_type": "code",
   "execution_count": 1,
   "metadata": {},
   "outputs": [
    {
     "name": "stderr",
     "output_type": "stream",
     "text": [
      "C:\\Users\\odyse\\anaconda3\\lib\\site-packages\\rpy2\\robjects\\packages.py:366: UserWarning: The symbol 'quartz' is not in this R namespace/package.\n",
      "  warnings.warn(\n"
     ]
    }
   ],
   "source": [
    "%load_ext rpy2.ipython\n",
    "\n",
    "# python packages\n",
    "import pandas as pd\n",
    "import statistics\n",
    "from scipy.stats import mannwhitneyu\n",
    "import sys\n",
    "\n",
    "# to run R code in python\n",
    "import rpy2.robjects.numpy2ri\n",
    "import rpy2.robjects as robjects\n",
    "import rpy2.robjects.packages as rpackages\n",
    "from rpy2.robjects.vectors import StrVector\n",
    "\n",
    "# my python packages\n",
    "# sys.path.insert(1, '/src')\n",
    "from truncation import *\n",
    "from gibbs import *\n",
    "from BayesFactorWilcoxon import *\n",
    "from dataProcessing import getFinalData, boxplots"
   ]
  },
  {
   "cell_type": "code",
   "execution_count": 2,
   "metadata": {
    "scrolled": true
   },
   "outputs": [
    {
     "name": "stdout",
     "output_type": "stream",
     "text": [
      "The mean volume of the left hemisphere is 122.80682145454544 and the mean volume of the right hemisphere is 120.76136727272727 \n",
      "This difference between the hemispheric volumes of the mgn is not significant for the healthy controls, W = 30.0 and p = 0.8310546875 for a two-sided alternative hypothesis.\n",
      "\n",
      "The mean volume of the left hemisphere is 99.9886359090909 and the mean volume of the right hemisphere is 105.94318227272726 \n",
      "This difference between the hemispheric volumes of the mgn is not significant for the PD patients, W = 27.0 and p = 0.8310546875 for a two-sided alternative hypothesis.\n",
      "\n"
     ]
    },
    {
     "data": {
      "text/html": [
       "<div>\n",
       "<style scoped>\n",
       "    .dataframe tbody tr th:only-of-type {\n",
       "        vertical-align: middle;\n",
       "    }\n",
       "\n",
       "    .dataframe tbody tr th {\n",
       "        vertical-align: top;\n",
       "    }\n",
       "\n",
       "    .dataframe thead th {\n",
       "        text-align: right;\n",
       "    }\n",
       "</style>\n",
       "<table border=\"1\" class=\"dataframe\">\n",
       "  <thead>\n",
       "    <tr style=\"text-align: right;\">\n",
       "      <th></th>\n",
       "      <th>id</th>\n",
       "      <th>age</th>\n",
       "      <th>sex</th>\n",
       "      <th>volL</th>\n",
       "      <th>volR</th>\n",
       "      <th>meanVol</th>\n",
       "      <th>group</th>\n",
       "    </tr>\n",
       "  </thead>\n",
       "  <tbody>\n",
       "    <tr>\n",
       "      <th>0</th>\n",
       "      <td>16</td>\n",
       "      <td>61</td>\n",
       "      <td>f</td>\n",
       "      <td>109.50000</td>\n",
       "      <td>139.50000</td>\n",
       "      <td>124.50000</td>\n",
       "      <td>HC</td>\n",
       "    </tr>\n",
       "    <tr>\n",
       "      <th>1</th>\n",
       "      <td>23</td>\n",
       "      <td>69</td>\n",
       "      <td>m</td>\n",
       "      <td>198.24998</td>\n",
       "      <td>170.49998</td>\n",
       "      <td>184.37498</td>\n",
       "      <td>HC</td>\n",
       "    </tr>\n",
       "    <tr>\n",
       "      <th>2</th>\n",
       "      <td>35</td>\n",
       "      <td>23</td>\n",
       "      <td>f</td>\n",
       "      <td>77.75001</td>\n",
       "      <td>88.50001</td>\n",
       "      <td>83.12501</td>\n",
       "      <td>HC</td>\n",
       "    </tr>\n",
       "    <tr>\n",
       "      <th>3</th>\n",
       "      <td>44</td>\n",
       "      <td>44</td>\n",
       "      <td>m</td>\n",
       "      <td>164.50000</td>\n",
       "      <td>170.25000</td>\n",
       "      <td>167.37500</td>\n",
       "      <td>HC</td>\n",
       "    </tr>\n",
       "    <tr>\n",
       "      <th>4</th>\n",
       "      <td>54</td>\n",
       "      <td>54</td>\n",
       "      <td>f</td>\n",
       "      <td>76.99998</td>\n",
       "      <td>74.99998</td>\n",
       "      <td>75.99998</td>\n",
       "      <td>HC</td>\n",
       "    </tr>\n",
       "  </tbody>\n",
       "</table>\n",
       "</div>"
      ],
      "text/plain": [
       "   id  age sex       volL       volR    meanVol group\n",
       "0  16   61   f  109.50000  139.50000  124.50000    HC\n",
       "1  23   69   m  198.24998  170.49998  184.37498    HC\n",
       "2  35   23   f   77.75001   88.50001   83.12501    HC\n",
       "3  44   44   m  164.50000  170.25000  167.37500    HC\n",
       "4  54   54   f   76.99998   74.99998   75.99998    HC"
      ]
     },
     "metadata": {},
     "output_type": "display_data"
    },
    {
     "data": {
      "image/png": "[encoded data removed]",
      "text/plain": [
       "<Figure size 432x288 with 1 Axes>"
      ]
     },
     "metadata": {
      "needs_background": "light"
     },
     "output_type": "display_data"
    }
   ],
   "source": [
    "data = getFinalData()\n",
    "display(data.head())\n",
    "boxplots(data)"
   ]
  },
  {
   "cell_type": "code",
   "execution_count": 4,
   "metadata": {
    "scrolled": true
   },
   "outputs": [
    {
     "name": "stdout",
     "output_type": "stream",
     "text": [
      "Starting chain:  1 / 5\n",
      "Now at iteration:  1 / 1000\n"
     ]
    },
    {
     "name": "stderr",
     "output_type": "stream",
     "text": [
      "C:\\Users\\odyse\\anaconda3\\lib\\site-packages\\numpy\\core\\_asarray.py:136: VisibleDeprecationWarning: Creating an ndarray from ragged nested sequences (which is a list-or-tuple of lists-or-tuples-or ndarrays with different lengths or shapes) is deprecated. If you meant to do this, you must specify 'dtype=object' when creating the ndarray\n",
      "  return array(a, dtype, copy=False, order=order, subok=True)\n"
     ]
    },
    {
     "name": "stdout",
     "output_type": "stream",
     "text": [
      "Now at iteration:  501 / 1000\n",
      "Starting chain:  2 / 5\n",
      "Now at iteration:  1 / 1000\n",
      "Now at iteration:  501 / 1000\n",
      "Starting chain:  3 / 5\n",
      "Now at iteration:  1 / 1000\n",
      "Now at iteration:  501 / 1000\n",
      "Starting chain:  4 / 5\n",
      "Now at iteration:  1 / 1000\n",
      "Now at iteration:  501 / 1000\n",
      "Starting chain:  5 / 5\n",
      "Now at iteration:  1 / 1000\n",
      "Now at iteration:  501 / 1000\n",
      "\n",
      "\n",
      "rHat = 0.9999833769537692\n",
      "BF = 1.057732259490138\n",
      "U statistic = 80.0\n"
     ]
    }
   ],
   "source": [
    "def main():   \n",
    "    volHC = data.loc[data['group'] == \"HC\"][\"meanVol\"]\n",
    "    volPD = data.loc[data['group'] == \"PD\"][\"meanVol\"]\n",
    "    result = rankSumGibbsSampler(volHC, volPD, nBurnin=1)\n",
    "    rHat = result[0]\n",
    "    deltaSamplesMatrixFlat = result[1]\n",
    "    %R -i deltaSamplesMatrixFlat\n",
    "    %R -o vec vec = as.vector(deltaSamplesMatrixFlat)\n",
    "    rpy2.robjects.numpy2ri.activate()\n",
    "    # one-sided hypothesis: healthy controls will have a greater mean than pd patients\n",
    "    bf = computeBayesFactorWilcoxon(vec, 1/sqrt(2), \"right\")[0]\n",
    "    U, p = mannwhitneyu(volHC, volPD, method=\"exact\")\n",
    "    \n",
    "    print(\"\\n\")\n",
    "    print(\"rHat =\", rHat)\n",
    "    print(\"BF =\", bf)\n",
    "    print(\"U statistic =\", U)\n",
    "\n",
    "main()"
   ]
  },
  {
   "cell_type": "code",
   "execution_count": null,
   "metadata": {},
   "outputs": [],
   "source": []
  }
 ],
 "metadata": {
  "kernelspec": {
   "display_name": "Python 3",
   "language": "python",
   "name": "python3"
  },
  "language_info": {
   "codemirror_mode": {
    "name": "ipython",
    "version": 3
   },
   "file_extension": ".py",
   "mimetype": "text/x-python",
   "name": "python",
   "nbconvert_exporter": "python",
   "pygments_lexer": "ipython3",
   "version": "3.8.5"
  }
 },
 "nbformat": 4,
 "nbformat_minor": 4
}
